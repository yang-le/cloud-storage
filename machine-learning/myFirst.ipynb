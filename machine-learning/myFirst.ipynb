{
 "cells": [
  {
   "cell_type": "markdown",
   "metadata": {},
   "source": [
    "来点更简单的，假设的模型是 y = 2x + 1 + noise\n",
    "这里"
   ]
  },
  {
   "cell_type": "code",
   "execution_count": null,
   "metadata": {
    "collapsed": true
   },
   "outputs": [],
   "source": [
    "real_w = 2\n",
    "real_b = 1"
   ]
  },
  {
   "cell_type": "markdown",
   "metadata": {},
   "source": [
    "现在随机生成一些x"
   ]
  },
  {
   "cell_type": "code",
   "execution_count": null,
   "metadata": {},
   "outputs": [],
   "source": [
    "import random\n",
    "num_examples = 1000\n",
    "X = []\n",
    "for i in range(num_examples):\n",
    "    X.append(random.random())"
   ]
  },
  {
   "cell_type": "markdown",
   "metadata": {},
   "source": [
    "所以，根据模型，y就是"
   ]
  },
  {
   "cell_type": "code",
   "execution_count": null,
   "metadata": {},
   "outputs": [],
   "source": [
    "Y = []\n",
    "for x in X:\n",
    "    Y.append(2 * x + 1 + random.random() - 0.5)"
   ]
  },
  {
   "cell_type": "markdown",
   "metadata": {},
   "source": [
    "画图来看一下，前50个"
   ]
  },
  {
   "cell_type": "code",
   "execution_count": null,
   "metadata": {},
   "outputs": [],
   "source": [
    "import matplotlib.pyplot as plt\n",
    "plt.scatter(X[:50], Y[:50])\n",
    "plt.show()"
   ]
  },
  {
   "cell_type": "markdown",
   "metadata": {},
   "source": [
    "根据输入来预测输出，一开始，随便预测"
   ]
  },
  {
   "cell_type": "code",
   "execution_count": null,
   "metadata": {
    "collapsed": true
   },
   "outputs": [],
   "source": [
    "my_w = 1\n",
    "my_b = 0\n",
    "\n",
    "def predict(x):\n",
    "    return my_w * x + my_b\n",
    "\n",
    "predY = []\n",
    "for x in X:\n",
    "    predY.append(predict(x))"
   ]
  },
  {
   "cell_type": "markdown",
   "metadata": {},
   "source": [
    "把预测也画到图中,蓝点是真实数据，黄点是我们的预测"
   ]
  },
  {
   "cell_type": "code",
   "execution_count": null,
   "metadata": {},
   "outputs": [],
   "source": [
    "plt.scatter(X[:50], Y[:50])\n",
    "plt.scatter(X[:50], predY[:50])\n",
    "plt.show()"
   ]
  },
  {
   "cell_type": "markdown",
   "metadata": {},
   "source": [
    "可以看到，随便预测果然不行...\n",
    "需要根据实际来调整预测，如何调整呢？\n",
    "只要让预测与实际相差尽量的小就可以了，定义一个误差函数"
   ]
  },
  {
   "cell_type": "code",
   "execution_count": null,
   "metadata": {
    "collapsed": true
   },
   "outputs": [],
   "source": [
    "def myError(Y1, Y2):\n",
    "    all = []\n",
    "    for i in range(len(Y1)):\n",
    "        all.append((Y1[i] - Y2[i])**2)\n",
    "    return sum(all)\n",
    "        "
   ]
  },
  {
   "cell_type": "markdown",
   "metadata": {},
   "source": [
    "现在，我们需要调整预测（参数）使误差函数最小，这就需要用误差函数对参数求导数\n",
    "\n",
    "myError = (my_w * realX + my_b - realY)^2\n",
    "\n",
    "myError对my_w求导，就是2 * (my_w * realX + my_b - realY) * realX,即2 * realX * (pred - realY)\n",
    "\n",
    "myError对my_b求导，就是2 * (my_w * realX + my_b - realY),即2 * (pred - realY)\n",
    "\n",
    "沿着导数反方向更新参数"
   ]
  },
  {
   "cell_type": "code",
   "execution_count": null,
   "metadata": {
    "collapsed": true
   },
   "outputs": [],
   "source": [
    "for i in range(len(Y)):\n",
    "    my_w -= 2 * X[i] * (predY[i] - Y[i])\n",
    "    my_b -= 2 * (predY[i] - Y[i])"
   ]
  },
  {
   "cell_type": "markdown",
   "metadata": {},
   "source": [
    "现在再看看效果"
   ]
  },
  {
   "cell_type": "code",
   "execution_count": null,
   "metadata": {},
   "outputs": [],
   "source": [
    "print(my_w, my_b)\n",
    "\n",
    "predY = []\n",
    "for x in X:\n",
    "    predY.append(predict(x))\n",
    "\n",
    "plt.scatter(X[:50], Y[:50])\n",
    "plt.scatter(X[:50], predY[:50])\n",
    "plt.show()"
   ]
  },
  {
   "cell_type": "markdown",
   "metadata": {},
   "source": [
    "参数飞了，这是因为，参数改变的太快了，超出了控制\n",
    "\n",
    "慢一点，而且，这次初始就全猜0吧"
   ]
  },
  {
   "cell_type": "code",
   "execution_count": null,
   "metadata": {},
   "outputs": [],
   "source": [
    "my_w = 0\n",
    "my_b = 0\n",
    "\n",
    "predY = []\n",
    "for x in X:\n",
    "    predY.append(predict(x))"
   ]
  },
  {
   "cell_type": "code",
   "execution_count": null,
   "metadata": {},
   "outputs": [],
   "source": [
    "errors = []\n",
    "for _ in range(50):\n",
    "    for i in range(len(Y)):\n",
    "        my_w -= .0007 * 2 * X[i] * (predY[i] - Y[i])\n",
    "        my_b -= .0007 * 2 * (predY[i] - Y[i])\n",
    "\n",
    "    predY = []\n",
    "    for x in X:\n",
    "        predY.append(predict(x))    \n",
    "\n",
    "    errors.append(myError(predY, Y))\n",
    "\n",
    "plt.scatter(X[:50], Y[:50])\n",
    "plt.scatter(X[:50], predY[:50])\n",
    "plt.show()\n",
    "\n",
    "plt.plot(errors)\n",
    "plt.show()"
   ]
  },
  {
   "cell_type": "markdown",
   "metadata": {},
   "source": [
    "通过50次的迭代后，预测已经比较准确了"
   ]
  },
  {
   "cell_type": "code",
   "execution_count": null,
   "metadata": {
    "collapsed": true
   },
   "outputs": [],
   "source": []
  }
 ],
 "metadata": {
  "kernelspec": {
   "display_name": "Python 3",
   "language": "python",
   "name": "python3"
  },
  "language_info": {
   "codemirror_mode": {
    "name": "ipython",
    "version": 3
   },
   "file_extension": ".py",
   "mimetype": "text/x-python",
   "name": "python",
   "nbconvert_exporter": "python",
   "pygments_lexer": "ipython3",
   "version": "3.6.2"
  }
 },
 "nbformat": 4,
 "nbformat_minor": 2
}
